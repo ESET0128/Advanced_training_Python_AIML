{
 "cells": [
  {
   "cell_type": "markdown",
   "id": "c71a22bc-1007-4c1e-9047-9a1fe8f0b7a6",
   "metadata": {},
   "source": [
    "# Saurabh Kumar | ESET0128  |   Advance Python AIML DAY:1"
   ]
  },
  {
   "cell_type": "markdown",
   "id": "58fdcdfe-5964-4a37-b73f-d1bff2fe9bbf",
   "metadata": {},
   "source": [
    "## 1. Write a python program to find frequency of each word in a given paragraph."
   ]
  },
  {
   "cell_type": "code",
   "execution_count": 64,
   "id": "4b9e4bc1-4d2b-4684-b3b1-a20dd497b94c",
   "metadata": {},
   "outputs": [],
   "source": [
    "# Importing libraries\n",
    "import numpy as np"
   ]
  },
  {
   "cell_type": "code",
   "execution_count": 65,
   "id": "2420ef46-8573-46aa-9bf9-06a1c3032a69",
   "metadata": {},
   "outputs": [
    {
     "name": "stdin",
     "output_type": "stream",
     "text": [
      "Enter the Paragraph my name is saurabh kumar, saurabh kumar is my name, i also have one different name\n"
     ]
    }
   ],
   "source": [
    "paragraph=input(\"Enter the Paragraph\")"
   ]
  },
  {
   "cell_type": "code",
   "execution_count": 79,
   "id": "73a6a07c-5752-48da-8fcd-9004c2b2cca7",
   "metadata": {},
   "outputs": [
    {
     "data": {
      "text/plain": [
       "['my',\n",
       " 'name',\n",
       " 'is',\n",
       " 'saurabh',\n",
       " 'kumar',\n",
       " 'saurabh',\n",
       " 'kumar',\n",
       " 'is',\n",
       " 'my',\n",
       " 'name',\n",
       " 'i',\n",
       " 'also',\n",
       " 'have',\n",
       " 'one',\n",
       " 'different',\n",
       " 'name']"
      ]
     },
     "execution_count": 79,
     "metadata": {},
     "output_type": "execute_result"
    }
   ],
   "source": [
    "para = paragraph.replace(',','')\n",
    "para_split=para.split()\n",
    "\n",
    "para_split"
   ]
  },
  {
   "cell_type": "code",
   "execution_count": 80,
   "id": "0be888b8-bb4e-4ce3-89af-a6987e658ac3",
   "metadata": {},
   "outputs": [
    {
     "name": "stdout",
     "output_type": "stream",
     "text": [
      "Word Frequencies:\n",
      "my: 2\n",
      "name: 3\n",
      "is: 2\n",
      "saurabh: 2\n",
      "kumar: 2\n",
      "i: 1\n",
      "also: 1\n",
      "have: 1\n",
      "one: 1\n",
      "different: 1\n"
     ]
    }
   ],
   "source": [
    "word_freq = {}\n",
    "for word in para_split:\n",
    "    word_freq[word] = word_freq.get(word, 0) + 1\n",
    "\n",
    "# Print word frequencies\n",
    "print(\"Word Frequencies:\")\n",
    "for word, freq in word_freq.items():\n",
    "    print(f\"{word}: {freq}\")\n",
    "        "
   ]
  },
  {
   "cell_type": "markdown",
   "id": "1be4fc15-5860-4a78-aa92-6f93a7ec1748",
   "metadata": {},
   "source": [
    "## 2. Create a list of tuples containing students names and marks, sort the list in descending order of marks using lambda."
   ]
  },
  {
   "cell_type": "code",
   "execution_count": 81,
   "id": "4c519e98-108d-4f09-8660-39deb7b8946d",
   "metadata": {},
   "outputs": [
    {
     "name": "stdout",
     "output_type": "stream",
     "text": [
      "[('Joshi', 85), ('Reetu', 80), ('Saurabh', 70), ('Gopal', 30)]\n"
     ]
    }
   ],
   "source": [
    "student_and_marks=[('Saurabh',70),('Reetu',80),('Gopal',30),('Joshi',85)]\n",
    "student_and_marks.sort(key=lambda x: x[1], reverse=True)\n",
    "print(student_and_marks)"
   ]
  },
  {
   "cell_type": "code",
   "execution_count": 50,
   "id": "86be16ff-cc39-4418-a0a1-7f750aa21a22",
   "metadata": {},
   "outputs": [],
   "source": []
  },
  {
   "cell_type": "markdown",
   "id": "0f1d6e95-021f-49d0-a0ad-6f49021e4d3d",
   "metadata": {},
   "source": [
    "## 3. Write a program to flatten a nested list. e.g. [4,[5,[8,5],8],4,4]"
   ]
  },
  {
   "cell_type": "code",
   "execution_count": 82,
   "id": "85a35a92-5a0f-4a74-abc2-f8356cd8cd85",
   "metadata": {},
   "outputs": [
    {
     "name": "stdout",
     "output_type": "stream",
     "text": [
      "Flattened List: [4, 5, 8, 5, 8, 4, 4]\n"
     ]
    }
   ],
   "source": [
    "def flatten_list(nested_list):\n",
    "    flat_list = []\n",
    "    for item in nested_list:\n",
    "        if isinstance(item, list):   # if item is a list, recurse\n",
    "            flat_list.extend(flatten_list(item))\n",
    "        else:\n",
    "            flat_list.append(item)   # if item is not a list, add directly\n",
    "    return flat_list\n",
    "\n",
    "\n",
    "nested = [4, [5, [8, 5], 8], 4, 4]\n",
    "result = flatten_list(nested)\n",
    "print(\"Flattened List:\", result)\n"
   ]
  },
  {
   "cell_type": "code",
   "execution_count": null,
   "id": "d39683c5-9346-4bc9-8448-451a4e549c79",
   "metadata": {},
   "outputs": [],
   "source": []
  }
 ],
 "metadata": {
  "kernelspec": {
   "display_name": "Python 3 (ipykernel)",
   "language": "python",
   "name": "python3"
  },
  "language_info": {
   "codemirror_mode": {
    "name": "ipython",
    "version": 3
   },
   "file_extension": ".py",
   "mimetype": "text/x-python",
   "name": "python",
   "nbconvert_exporter": "python",
   "pygments_lexer": "ipython3",
   "version": "3.13.5"
  }
 },
 "nbformat": 4,
 "nbformat_minor": 5
}
